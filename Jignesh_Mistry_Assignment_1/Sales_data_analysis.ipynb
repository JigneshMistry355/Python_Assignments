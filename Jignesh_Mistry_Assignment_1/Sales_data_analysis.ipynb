{
 "cells": [
  {
   "cell_type": "code",
   "execution_count": 15,
   "id": "63c2dbd3-5ae0-4186-9741-813dd19a6ab4",
   "metadata": {},
   "outputs": [],
   "source": [
    "import numpy as np\n",
    "import pandas as pd\n",
    "import matplotlib.pyplot as plt"
   ]
  },
  {
   "cell_type": "markdown",
   "id": "e2c5293f-95cf-448a-bddd-232448180fd1",
   "metadata": {},
   "source": [
    "# 1. Read the file"
   ]
  },
  {
   "cell_type": "code",
   "execution_count": 3,
   "id": "754c7b0a-df1f-45f3-bd4f-5e30f8bc3c43",
   "metadata": {},
   "outputs": [
    {
     "data": {
      "text/html": [
       "<div>\n",
       "<style scoped>\n",
       "    .dataframe tbody tr th:only-of-type {\n",
       "        vertical-align: middle;\n",
       "    }\n",
       "\n",
       "    .dataframe tbody tr th {\n",
       "        vertical-align: top;\n",
       "    }\n",
       "\n",
       "    .dataframe thead th {\n",
       "        text-align: right;\n",
       "    }\n",
       "</style>\n",
       "<table border=\"1\" class=\"dataframe\">\n",
       "  <thead>\n",
       "    <tr style=\"text-align: right;\">\n",
       "      <th></th>\n",
       "      <th>Date</th>\n",
       "      <th>Product</th>\n",
       "      <th>Quantity</th>\n",
       "      <th>Price</th>\n",
       "    </tr>\n",
       "  </thead>\n",
       "  <tbody>\n",
       "    <tr>\n",
       "      <th>0</th>\n",
       "      <td>2023-07-20</td>\n",
       "      <td>Headphones</td>\n",
       "      <td>2</td>\n",
       "      <td>75.96</td>\n",
       "    </tr>\n",
       "    <tr>\n",
       "      <th>1</th>\n",
       "      <td>2023-08-13</td>\n",
       "      <td>Monitor</td>\n",
       "      <td>8</td>\n",
       "      <td>94.32</td>\n",
       "    </tr>\n",
       "    <tr>\n",
       "      <th>2</th>\n",
       "      <td>2023-10-14</td>\n",
       "      <td>Speaker</td>\n",
       "      <td>9</td>\n",
       "      <td>1537.38</td>\n",
       "    </tr>\n",
       "    <tr>\n",
       "      <th>3</th>\n",
       "      <td>2023-09-12</td>\n",
       "      <td>Speaker</td>\n",
       "      <td>5</td>\n",
       "      <td>1213.25</td>\n",
       "    </tr>\n",
       "    <tr>\n",
       "      <th>4</th>\n",
       "      <td>2023-12-03</td>\n",
       "      <td>Printer</td>\n",
       "      <td>1</td>\n",
       "      <td>284.50</td>\n",
       "    </tr>\n",
       "  </tbody>\n",
       "</table>\n",
       "</div>"
      ],
      "text/plain": [
       "         Date     Product  Quantity    Price\n",
       "0  2023-07-20  Headphones         2    75.96\n",
       "1  2023-08-13     Monitor         8    94.32\n",
       "2  2023-10-14     Speaker         9  1537.38\n",
       "3  2023-09-12     Speaker         5  1213.25\n",
       "4  2023-12-03     Printer         1   284.50"
      ]
     },
     "execution_count": 3,
     "metadata": {},
     "output_type": "execute_result"
    }
   ],
   "source": [
    "df = pd.read_csv(\"sample_sales.csv\")\n",
    "df.head(5)"
   ]
  },
  {
   "cell_type": "markdown",
   "id": "0e2baee5-170d-4ae8-9b61-43c4adfa97b2",
   "metadata": {},
   "source": [
    "# 2. Total sales"
   ]
  },
  {
   "cell_type": "code",
   "execution_count": 4,
   "id": "d0da03f7-abe5-4612-ad4c-58791f9dbeec",
   "metadata": {},
   "outputs": [
    {
     "data": {
      "text/html": [
       "<div>\n",
       "<style scoped>\n",
       "    .dataframe tbody tr th:only-of-type {\n",
       "        vertical-align: middle;\n",
       "    }\n",
       "\n",
       "    .dataframe tbody tr th {\n",
       "        vertical-align: top;\n",
       "    }\n",
       "\n",
       "    .dataframe thead th {\n",
       "        text-align: right;\n",
       "    }\n",
       "</style>\n",
       "<table border=\"1\" class=\"dataframe\">\n",
       "  <thead>\n",
       "    <tr style=\"text-align: right;\">\n",
       "      <th></th>\n",
       "      <th>Date</th>\n",
       "      <th>Product</th>\n",
       "      <th>Quantity</th>\n",
       "      <th>Price</th>\n",
       "      <th>Total_sale</th>\n",
       "    </tr>\n",
       "  </thead>\n",
       "  <tbody>\n",
       "    <tr>\n",
       "      <th>0</th>\n",
       "      <td>2023-07-20</td>\n",
       "      <td>Headphones</td>\n",
       "      <td>2</td>\n",
       "      <td>75.96</td>\n",
       "      <td>151.92</td>\n",
       "    </tr>\n",
       "    <tr>\n",
       "      <th>1</th>\n",
       "      <td>2023-08-13</td>\n",
       "      <td>Monitor</td>\n",
       "      <td>8</td>\n",
       "      <td>94.32</td>\n",
       "      <td>754.56</td>\n",
       "    </tr>\n",
       "    <tr>\n",
       "      <th>2</th>\n",
       "      <td>2023-10-14</td>\n",
       "      <td>Speaker</td>\n",
       "      <td>9</td>\n",
       "      <td>1537.38</td>\n",
       "      <td>13836.42</td>\n",
       "    </tr>\n",
       "    <tr>\n",
       "      <th>3</th>\n",
       "      <td>2023-09-12</td>\n",
       "      <td>Speaker</td>\n",
       "      <td>5</td>\n",
       "      <td>1213.25</td>\n",
       "      <td>6066.25</td>\n",
       "    </tr>\n",
       "    <tr>\n",
       "      <th>4</th>\n",
       "      <td>2023-12-03</td>\n",
       "      <td>Printer</td>\n",
       "      <td>1</td>\n",
       "      <td>284.50</td>\n",
       "      <td>284.50</td>\n",
       "    </tr>\n",
       "  </tbody>\n",
       "</table>\n",
       "</div>"
      ],
      "text/plain": [
       "         Date     Product  Quantity    Price  Total_sale\n",
       "0  2023-07-20  Headphones         2    75.96      151.92\n",
       "1  2023-08-13     Monitor         8    94.32      754.56\n",
       "2  2023-10-14     Speaker         9  1537.38    13836.42\n",
       "3  2023-09-12     Speaker         5  1213.25     6066.25\n",
       "4  2023-12-03     Printer         1   284.50      284.50"
      ]
     },
     "execution_count": 4,
     "metadata": {},
     "output_type": "execute_result"
    }
   ],
   "source": [
    "df[\"Total_sale\"] = df[\"Quantity\"] * df[\"Price\"]\n",
    "df.head()"
   ]
  },
  {
   "cell_type": "markdown",
   "id": "e2b1ee11-86b8-47ab-b953-277bc5b47a9d",
   "metadata": {},
   "source": [
    "# 3. Top 3 products by sales"
   ]
  },
  {
   "cell_type": "code",
   "execution_count": 9,
   "id": "e937fc62-0dc5-433c-9c29-b4293af3e558",
   "metadata": {},
   "outputs": [
    {
     "data": {
      "text/html": [
       "<div>\n",
       "<style scoped>\n",
       "    .dataframe tbody tr th:only-of-type {\n",
       "        vertical-align: middle;\n",
       "    }\n",
       "\n",
       "    .dataframe tbody tr th {\n",
       "        vertical-align: top;\n",
       "    }\n",
       "\n",
       "    .dataframe thead th {\n",
       "        text-align: right;\n",
       "    }\n",
       "</style>\n",
       "<table border=\"1\" class=\"dataframe\">\n",
       "  <thead>\n",
       "    <tr style=\"text-align: right;\">\n",
       "      <th></th>\n",
       "      <th>Date</th>\n",
       "      <th>Product</th>\n",
       "      <th>Quantity</th>\n",
       "      <th>Price</th>\n",
       "      <th>Total_sale</th>\n",
       "    </tr>\n",
       "  </thead>\n",
       "  <tbody>\n",
       "    <tr>\n",
       "      <th>2</th>\n",
       "      <td>2023-10-14</td>\n",
       "      <td>Speaker</td>\n",
       "      <td>9</td>\n",
       "      <td>1537.38</td>\n",
       "      <td>13836.42</td>\n",
       "    </tr>\n",
       "    <tr>\n",
       "      <th>11</th>\n",
       "      <td>2023-12-01</td>\n",
       "      <td>Camera</td>\n",
       "      <td>7</td>\n",
       "      <td>1807.50</td>\n",
       "      <td>12652.50</td>\n",
       "    </tr>\n",
       "    <tr>\n",
       "      <th>15</th>\n",
       "      <td>2023-11-11</td>\n",
       "      <td>Headphones</td>\n",
       "      <td>6</td>\n",
       "      <td>1834.65</td>\n",
       "      <td>11007.90</td>\n",
       "    </tr>\n",
       "  </tbody>\n",
       "</table>\n",
       "</div>"
      ],
      "text/plain": [
       "          Date     Product  Quantity    Price  Total_sale\n",
       "2   2023-10-14     Speaker         9  1537.38    13836.42\n",
       "11  2023-12-01      Camera         7  1807.50    12652.50\n",
       "15  2023-11-11  Headphones         6  1834.65    11007.90"
      ]
     },
     "execution_count": 9,
     "metadata": {},
     "output_type": "execute_result"
    }
   ],
   "source": [
    "df.sort_values(by=[\"Total_sale\"], ascending=False).head(3)"
   ]
  },
  {
   "cell_type": "markdown",
   "id": "8cca6aae-6e2a-4c0f-9fb3-d4f9ece5020b",
   "metadata": {},
   "source": [
    "# 4. Group by product and show total revenue"
   ]
  },
  {
   "cell_type": "code",
   "execution_count": 11,
   "id": "be2c45de-8acb-48a3-9731-65c026369610",
   "metadata": {},
   "outputs": [
    {
     "data": {
      "text/html": [
       "<div>\n",
       "<style scoped>\n",
       "    .dataframe tbody tr th:only-of-type {\n",
       "        vertical-align: middle;\n",
       "    }\n",
       "\n",
       "    .dataframe tbody tr th {\n",
       "        vertical-align: top;\n",
       "    }\n",
       "\n",
       "    .dataframe thead th {\n",
       "        text-align: right;\n",
       "    }\n",
       "</style>\n",
       "<table border=\"1\" class=\"dataframe\">\n",
       "  <thead>\n",
       "    <tr style=\"text-align: right;\">\n",
       "      <th></th>\n",
       "      <th>Date</th>\n",
       "      <th>Quantity</th>\n",
       "      <th>Price</th>\n",
       "      <th>Total_sale</th>\n",
       "    </tr>\n",
       "    <tr>\n",
       "      <th>Product</th>\n",
       "      <th></th>\n",
       "      <th></th>\n",
       "      <th></th>\n",
       "      <th></th>\n",
       "    </tr>\n",
       "  </thead>\n",
       "  <tbody>\n",
       "    <tr>\n",
       "      <th>Camera</th>\n",
       "      <td>2023-02-032023-09-242023-12-01</td>\n",
       "      <td>17</td>\n",
       "      <td>3815.48</td>\n",
       "      <td>21910.70</td>\n",
       "    </tr>\n",
       "    <tr>\n",
       "      <th>Headphones</th>\n",
       "      <td>2023-07-202023-10-022023-11-11</td>\n",
       "      <td>12</td>\n",
       "      <td>3712.02</td>\n",
       "      <td>18365.46</td>\n",
       "    </tr>\n",
       "    <tr>\n",
       "      <th>Laptop</th>\n",
       "      <td>2023-01-272023-02-082023-03-302023-04-032023-1...</td>\n",
       "      <td>9</td>\n",
       "      <td>6067.68</td>\n",
       "      <td>10882.80</td>\n",
       "    </tr>\n",
       "    <tr>\n",
       "      <th>Monitor</th>\n",
       "      <td>2023-08-13</td>\n",
       "      <td>8</td>\n",
       "      <td>94.32</td>\n",
       "      <td>754.56</td>\n",
       "    </tr>\n",
       "    <tr>\n",
       "      <th>Mouse</th>\n",
       "      <td>2023-03-112023-08-31</td>\n",
       "      <td>13</td>\n",
       "      <td>1327.35</td>\n",
       "      <td>10762.74</td>\n",
       "    </tr>\n",
       "    <tr>\n",
       "      <th>Phone</th>\n",
       "      <td>2023-12-01</td>\n",
       "      <td>3</td>\n",
       "      <td>1790.22</td>\n",
       "      <td>5370.66</td>\n",
       "    </tr>\n",
       "    <tr>\n",
       "      <th>Printer</th>\n",
       "      <td>2023-12-032023-11-072023-12-29</td>\n",
       "      <td>16</td>\n",
       "      <td>1192.28</td>\n",
       "      <td>6435.94</td>\n",
       "    </tr>\n",
       "    <tr>\n",
       "      <th>Speaker</th>\n",
       "      <td>2023-10-142023-09-12</td>\n",
       "      <td>14</td>\n",
       "      <td>2750.63</td>\n",
       "      <td>19902.67</td>\n",
       "    </tr>\n",
       "  </tbody>\n",
       "</table>\n",
       "</div>"
      ],
      "text/plain": [
       "                                                         Date  Quantity  \\\n",
       "Product                                                                   \n",
       "Camera                         2023-02-032023-09-242023-12-01        17   \n",
       "Headphones                     2023-07-202023-10-022023-11-11        12   \n",
       "Laptop      2023-01-272023-02-082023-03-302023-04-032023-1...         9   \n",
       "Monitor                                            2023-08-13         8   \n",
       "Mouse                                    2023-03-112023-08-31        13   \n",
       "Phone                                              2023-12-01         3   \n",
       "Printer                        2023-12-032023-11-072023-12-29        16   \n",
       "Speaker                                  2023-10-142023-09-12        14   \n",
       "\n",
       "              Price  Total_sale  \n",
       "Product                          \n",
       "Camera      3815.48    21910.70  \n",
       "Headphones  3712.02    18365.46  \n",
       "Laptop      6067.68    10882.80  \n",
       "Monitor       94.32      754.56  \n",
       "Mouse       1327.35    10762.74  \n",
       "Phone       1790.22     5370.66  \n",
       "Printer     1192.28     6435.94  \n",
       "Speaker     2750.63    19902.67  "
      ]
     },
     "execution_count": 11,
     "metadata": {},
     "output_type": "execute_result"
    }
   ],
   "source": [
    "df.groupby(by=[\"Product\"]).sum()"
   ]
  },
  {
   "cell_type": "markdown",
   "id": "d146391b-2ced-410d-87b9-0453b2ebd651",
   "metadata": {},
   "source": [
    "# 5. Display highest sales day"
   ]
  },
  {
   "cell_type": "code",
   "execution_count": 12,
   "id": "ed82fc23-96a9-4bdf-b69e-6ddf66990af3",
   "metadata": {},
   "outputs": [
    {
     "data": {
      "text/plain": [
       "Date          2023-12-29\n",
       "Total_sale      13836.42\n",
       "dtype: object"
      ]
     },
     "execution_count": 12,
     "metadata": {},
     "output_type": "execute_result"
    }
   ],
   "source": [
    "df[[\"Date\", \"Total_sale\"]].max()"
   ]
  },
  {
   "cell_type": "code",
   "execution_count": 13,
   "id": "d6444571-1cff-450c-98cc-ea5ae3530057",
   "metadata": {},
   "outputs": [
    {
     "data": {
      "text/plain": [
       "np.float64(13836.420000000002)"
      ]
     },
     "execution_count": 13,
     "metadata": {},
     "output_type": "execute_result"
    }
   ],
   "source": [
    "df[\"Total_sale\"].max()"
   ]
  },
  {
   "cell_type": "code",
   "execution_count": 16,
   "id": "699c2b08-88bf-4916-b1c4-0d6b6b63e09c",
   "metadata": {},
   "outputs": [
    {
     "data": {
      "text/plain": [
       "<Axes: >"
      ]
     },
     "execution_count": 16,
     "metadata": {},
     "output_type": "execute_result"
    },
    {
     "data": {
      "image/png": "[encoded data removed]",
      "text/plain": [
       "<Figure size 640x480 with 1 Axes>"
      ]
     },
     "metadata": {},
     "output_type": "display_data"
    }
   ],
   "source": [
    "df.plot.bar()"
   ]
  },
  {
   "cell_type": "code",
   "execution_count": 18,
   "id": "0f1f5fb7-0856-47b0-acd7-0847d7ee3047",
   "metadata": {},
   "outputs": [
    {
     "data": {
      "text/html": [
       "<div>\n",
       "<style scoped>\n",
       "    .dataframe tbody tr th:only-of-type {\n",
       "        vertical-align: middle;\n",
       "    }\n",
       "\n",
       "    .dataframe tbody tr th {\n",
       "        vertical-align: top;\n",
       "    }\n",
       "\n",
       "    .dataframe thead th {\n",
       "        text-align: right;\n",
       "    }\n",
       "</style>\n",
       "<table border=\"1\" class=\"dataframe\">\n",
       "  <thead>\n",
       "    <tr style=\"text-align: right;\">\n",
       "      <th></th>\n",
       "      <th>Date</th>\n",
       "      <th>Product</th>\n",
       "      <th>Quantity</th>\n",
       "      <th>Price</th>\n",
       "      <th>Total_sale</th>\n",
       "    </tr>\n",
       "  </thead>\n",
       "  <tbody>\n",
       "    <tr>\n",
       "      <th>5</th>\n",
       "      <td>2023-01-27</td>\n",
       "      <td>Laptop</td>\n",
       "      <td>3</td>\n",
       "      <td>1249.42</td>\n",
       "      <td>3748.26</td>\n",
       "    </tr>\n",
       "    <tr>\n",
       "      <th>7</th>\n",
       "      <td>2023-02-03</td>\n",
       "      <td>Camera</td>\n",
       "      <td>6</td>\n",
       "      <td>613.14</td>\n",
       "      <td>3678.84</td>\n",
       "    </tr>\n",
       "    <tr>\n",
       "      <th>8</th>\n",
       "      <td>2023-02-08</td>\n",
       "      <td>Laptop</td>\n",
       "      <td>1</td>\n",
       "      <td>483.25</td>\n",
       "      <td>483.25</td>\n",
       "    </tr>\n",
       "    <tr>\n",
       "      <th>6</th>\n",
       "      <td>2023-03-11</td>\n",
       "      <td>Mouse</td>\n",
       "      <td>10</td>\n",
       "      <td>968.67</td>\n",
       "      <td>9686.70</td>\n",
       "    </tr>\n",
       "    <tr>\n",
       "      <th>9</th>\n",
       "      <td>2023-03-30</td>\n",
       "      <td>Laptop</td>\n",
       "      <td>1</td>\n",
       "      <td>1269.63</td>\n",
       "      <td>1269.63</td>\n",
       "    </tr>\n",
       "    <tr>\n",
       "      <th>13</th>\n",
       "      <td>2023-04-03</td>\n",
       "      <td>Laptop</td>\n",
       "      <td>1</td>\n",
       "      <td>1907.24</td>\n",
       "      <td>1907.24</td>\n",
       "    </tr>\n",
       "    <tr>\n",
       "      <th>0</th>\n",
       "      <td>2023-07-20</td>\n",
       "      <td>Headphones</td>\n",
       "      <td>2</td>\n",
       "      <td>75.96</td>\n",
       "      <td>151.92</td>\n",
       "    </tr>\n",
       "    <tr>\n",
       "      <th>1</th>\n",
       "      <td>2023-08-13</td>\n",
       "      <td>Monitor</td>\n",
       "      <td>8</td>\n",
       "      <td>94.32</td>\n",
       "      <td>754.56</td>\n",
       "    </tr>\n",
       "    <tr>\n",
       "      <th>17</th>\n",
       "      <td>2023-08-31</td>\n",
       "      <td>Mouse</td>\n",
       "      <td>3</td>\n",
       "      <td>358.68</td>\n",
       "      <td>1076.04</td>\n",
       "    </tr>\n",
       "    <tr>\n",
       "      <th>3</th>\n",
       "      <td>2023-09-12</td>\n",
       "      <td>Speaker</td>\n",
       "      <td>5</td>\n",
       "      <td>1213.25</td>\n",
       "      <td>6066.25</td>\n",
       "    </tr>\n",
       "    <tr>\n",
       "      <th>10</th>\n",
       "      <td>2023-09-24</td>\n",
       "      <td>Camera</td>\n",
       "      <td>4</td>\n",
       "      <td>1394.84</td>\n",
       "      <td>5579.36</td>\n",
       "    </tr>\n",
       "    <tr>\n",
       "      <th>14</th>\n",
       "      <td>2023-10-02</td>\n",
       "      <td>Headphones</td>\n",
       "      <td>4</td>\n",
       "      <td>1801.41</td>\n",
       "      <td>7205.64</td>\n",
       "    </tr>\n",
       "    <tr>\n",
       "      <th>2</th>\n",
       "      <td>2023-10-14</td>\n",
       "      <td>Speaker</td>\n",
       "      <td>9</td>\n",
       "      <td>1537.38</td>\n",
       "      <td>13836.42</td>\n",
       "    </tr>\n",
       "    <tr>\n",
       "      <th>12</th>\n",
       "      <td>2023-11-07</td>\n",
       "      <td>Printer</td>\n",
       "      <td>9</td>\n",
       "      <td>234.92</td>\n",
       "      <td>2114.28</td>\n",
       "    </tr>\n",
       "    <tr>\n",
       "      <th>15</th>\n",
       "      <td>2023-11-11</td>\n",
       "      <td>Headphones</td>\n",
       "      <td>6</td>\n",
       "      <td>1834.65</td>\n",
       "      <td>11007.90</td>\n",
       "    </tr>\n",
       "    <tr>\n",
       "      <th>19</th>\n",
       "      <td>2023-11-28</td>\n",
       "      <td>Laptop</td>\n",
       "      <td>3</td>\n",
       "      <td>1158.14</td>\n",
       "      <td>3474.42</td>\n",
       "    </tr>\n",
       "    <tr>\n",
       "      <th>18</th>\n",
       "      <td>2023-12-01</td>\n",
       "      <td>Phone</td>\n",
       "      <td>3</td>\n",
       "      <td>1790.22</td>\n",
       "      <td>5370.66</td>\n",
       "    </tr>\n",
       "    <tr>\n",
       "      <th>11</th>\n",
       "      <td>2023-12-01</td>\n",
       "      <td>Camera</td>\n",
       "      <td>7</td>\n",
       "      <td>1807.50</td>\n",
       "      <td>12652.50</td>\n",
       "    </tr>\n",
       "    <tr>\n",
       "      <th>4</th>\n",
       "      <td>2023-12-03</td>\n",
       "      <td>Printer</td>\n",
       "      <td>1</td>\n",
       "      <td>284.50</td>\n",
       "      <td>284.50</td>\n",
       "    </tr>\n",
       "    <tr>\n",
       "      <th>16</th>\n",
       "      <td>2023-12-29</td>\n",
       "      <td>Printer</td>\n",
       "      <td>6</td>\n",
       "      <td>672.86</td>\n",
       "      <td>4037.16</td>\n",
       "    </tr>\n",
       "  </tbody>\n",
       "</table>\n",
       "</div>"
      ],
      "text/plain": [
       "          Date     Product  Quantity    Price  Total_sale\n",
       "5   2023-01-27      Laptop         3  1249.42     3748.26\n",
       "7   2023-02-03      Camera         6   613.14     3678.84\n",
       "8   2023-02-08      Laptop         1   483.25      483.25\n",
       "6   2023-03-11       Mouse        10   968.67     9686.70\n",
       "9   2023-03-30      Laptop         1  1269.63     1269.63\n",
       "13  2023-04-03      Laptop         1  1907.24     1907.24\n",
       "0   2023-07-20  Headphones         2    75.96      151.92\n",
       "1   2023-08-13     Monitor         8    94.32      754.56\n",
       "17  2023-08-31       Mouse         3   358.68     1076.04\n",
       "3   2023-09-12     Speaker         5  1213.25     6066.25\n",
       "10  2023-09-24      Camera         4  1394.84     5579.36\n",
       "14  2023-10-02  Headphones         4  1801.41     7205.64\n",
       "2   2023-10-14     Speaker         9  1537.38    13836.42\n",
       "12  2023-11-07     Printer         9   234.92     2114.28\n",
       "15  2023-11-11  Headphones         6  1834.65    11007.90\n",
       "19  2023-11-28      Laptop         3  1158.14     3474.42\n",
       "18  2023-12-01       Phone         3  1790.22     5370.66\n",
       "11  2023-12-01      Camera         7  1807.50    12652.50\n",
       "4   2023-12-03     Printer         1   284.50      284.50\n",
       "16  2023-12-29     Printer         6   672.86     4037.16"
      ]
     },
     "execution_count": 18,
     "metadata": {},
     "output_type": "execute_result"
    }
   ],
   "source": [
    "date_sorted_df = df.sort_values(by=[\"Date\"])\n",
    "date_sorted_df"
   ]
  },
  {
   "cell_type": "code",
   "execution_count": 19,
   "id": "0ed0cc63-8bfe-4cf0-943e-64a0117fba49",
   "metadata": {},
   "outputs": [
    {
     "data": {
      "text/plain": [
       "<Axes: >"
      ]
     },
     "execution_count": 19,
     "metadata": {},
     "output_type": "execute_result"
    },
    {
     "data": {
      "image/png": "[encoded data removed]",
      "text/plain": [
       "<Figure size 640x480 with 1 Axes>"
      ]
     },
     "metadata": {},
     "output_type": "display_data"
    }
   ],
   "source": [
    "date_sorted_df.plot.bar()"
   ]
  },
  {
   "cell_type": "code",
   "execution_count": null,
   "id": "01f73fec-4d7e-44a3-819f-c44fc44c681f",
   "metadata": {},
   "outputs": [],
   "source": []
  }
 ],
 "metadata": {
  "kernelspec": {
   "display_name": "Python 3 (ipykernel)",
   "language": "python",
   "name": "python3"
  },
  "language_info": {
   "codemirror_mode": {
    "name": "ipython",
    "version": 3
   },
   "file_extension": ".py",
   "mimetype": "text/x-python",
   "name": "python",
   "nbconvert_exporter": "python",
   "pygments_lexer": "ipython3",
   "version": "3.11.8"
  }
 },
 "nbformat": 4,
 "nbformat_minor": 5
}
