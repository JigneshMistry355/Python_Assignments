{
 "cells": [
  {
   "cell_type": "markdown",
   "id": "69b3fc7f-a8ab-4af8-8554-3e545d686c1f",
   "metadata": {},
   "source": [
    "### List operations"
   ]
  },
  {
   "cell_type": "markdown",
   "id": "aac6be63-6fce-4177-b4ab-dafd40096be2",
   "metadata": {},
   "source": [
    "---"
   ]
  },
  {
   "cell_type": "markdown",
   "id": "cba55bae-4a39-4b21-bf2b-6d0a94fefbaf",
   "metadata": {},
   "source": [
    "#### 1. print maximum from the list"
   ]
  },
  {
   "cell_type": "code",
   "execution_count": 1,
   "id": "92d206bf-b9ac-44bf-acf1-b7283aeb389e",
   "metadata": {},
   "outputs": [],
   "source": [
    "def print_max(arr: list):\n",
    "    if len(arr) == 0:\n",
    "        raise IndexError(\"The list is empty\")\n",
    "        return\n",
    "    maximum = float('-inf')\n",
    "    for i in range(len(arr)):\n",
    "        if not isinstance(arr[i], (int, float)):\n",
    "            raise TypeError(\"Input must be a number\")\n",
    "            return\n",
    "        if arr[i] > maximum:\n",
    "            maximum = arr[i]\n",
    "    return maximum"
   ]
  },
  {
   "cell_type": "markdown",
   "id": "08ada958-2c23-4482-bfb3-2a52eb8370a1",
   "metadata": {},
   "source": [
    "##### -----------------******************** Trying Different values in the list ***********************-----------------"
   ]
  },
  {
   "cell_type": "code",
   "execution_count": 2,
   "id": "10c299a8-0501-4c04-9840-3a5c02d5f674",
   "metadata": {},
   "outputs": [
    {
     "name": "stdout",
     "output_type": "stream",
     "text": [
      "The maximum number from the list is 99\n",
      "Execution completed successfully\n"
     ]
    }
   ],
   "source": [
    "try:\n",
    "    arr = [1,5,8,4,9,0,3,22,5,7,89,44,33,2,5,7,9,45,67,35,64,99]    # all integers\n",
    "    result = print_max(arr)\n",
    "    \n",
    "except Exception as e:\n",
    "    print(\"Caught an exception: \", e)\n",
    "except IndexError as e:\n",
    "    print(\"Caught an exception: \", e)\n",
    "except TypeError as e:\n",
    "    print(\"Caught an exception: \", e)\n",
    "else:\n",
    "    print(f\"The maximum number from the list is {result}\")\n",
    "finally:\n",
    "    print(\"Execution completed successfully\")"
   ]
  },
  {
   "cell_type": "code",
   "execution_count": 3,
   "id": "c54e1753-98cb-4f15-adf1-d96bb1314252",
   "metadata": {},
   "outputs": [
    {
     "name": "stdout",
     "output_type": "stream",
     "text": [
      "Caught an exception:  Input must be a number\n",
      "Execution completed successfully\n"
     ]
    }
   ],
   "source": [
    "# Rasing a type error for invalid input\n",
    " \n",
    "try:\n",
    "    arr = [1,5,8,4,9,0,3,22,5,7,89,44,33,2,5,7,9,'e',45,67,35,64,99]      # a character in between\n",
    "    result = print_max(arr)\n",
    "except Exception as e:\n",
    "    print(\"Caught an exception: \", e)\n",
    "except IndexError as e:\n",
    "    print(\"Caught an exception: \", e)\n",
    "except TypeError as e:\n",
    "    print(\"Caught an exception: \", e)\n",
    "else:\n",
    "    print(f\"The maximum number from the list is {result}\")\n",
    "finally:\n",
    "    print(\"Execution completed successfully\")"
   ]
  },
  {
   "cell_type": "code",
   "execution_count": 4,
   "id": "bc91d630-b9ae-4c6f-b553-b31b11d7a29b",
   "metadata": {},
   "outputs": [
    {
     "name": "stdout",
     "output_type": "stream",
     "text": [
      "Caught an exception:  Input must be a number\n",
      "Execution completed successfully\n"
     ]
    }
   ],
   "source": [
    "# Raise exception for list of None\n",
    "\n",
    "try:\n",
    "    arr = [None, None, None]       # a list of None\n",
    "    result = print_max(arr)\n",
    "except Exception as e:\n",
    "    print(\"Caught an exception: \", e)\n",
    "except IndexError as e:\n",
    "    print(\"Caught an exception: \", e)\n",
    "except TypeError as e:\n",
    "    print(\"Caught an exception: \", e)\n",
    "else:\n",
    "    print(f\"The maximum number from the list is {result}\")\n",
    "finally:\n",
    "    print(\"Execution completed successfully\")"
   ]
  },
  {
   "cell_type": "code",
   "execution_count": 5,
   "id": "b745e7ba-965c-4a5d-a3b2-1a97054eba95",
   "metadata": {},
   "outputs": [
    {
     "name": "stdout",
     "output_type": "stream",
     "text": [
      "Caught an exception:  The list is empty\n",
      "Execution completed successfully\n"
     ]
    }
   ],
   "source": [
    "# Raise exception for empty list\n",
    "\n",
    "try:\n",
    "    arr = [] # empty list\n",
    "    result = print_max(arr)\n",
    "except Exception as e:\n",
    "    print(\"Caught an exception: \", e)\n",
    "except IndexError as e:\n",
    "    print(\"Caught an exception: \", e)\n",
    "except TypeError as e:\n",
    "    print(\"Caught an exception: \", e)\n",
    "else:\n",
    "    print(f\"The maximum number from the list is {result}\")\n",
    "finally:\n",
    "    print(\"Execution completed successfully\")"
   ]
  },
  {
   "cell_type": "markdown",
   "id": "92780c64-bf7e-4dc8-b0f4-f240745f9a5d",
   "metadata": {},
   "source": [
    "---"
   ]
  },
  {
   "cell_type": "markdown",
   "id": "291fb4d7-85ce-4406-b412-c669dd22de96",
   "metadata": {},
   "source": [
    "---"
   ]
  },
  {
   "cell_type": "markdown",
   "id": "5799af11-e255-4aea-b895-f8547e7c2dc1",
   "metadata": {},
   "source": [
    "#### 2. Find minimum"
   ]
  },
  {
   "cell_type": "code",
   "execution_count": 6,
   "id": "508c325a-7c87-47fc-8123-6de67dcc4a4e",
   "metadata": {},
   "outputs": [],
   "source": [
    "def print_min(arr: list):\n",
    "    if len(arr) == 0:\n",
    "        raise IndexError(\"List is empty\")\n",
    "        return\n",
    "    minimum = arr[0]\n",
    "    for i in range(1, len(arr)):\n",
    "        if not isinstance(arr[i], (int, float)):\n",
    "            raise TypeError(\"Value must be a number, check if there exists a non-numeric value in the list\")\n",
    "            return\n",
    "        if arr[i] < minimum:\n",
    "            minimum = arr[i]\n",
    "    return minimum"
   ]
  },
  {
   "cell_type": "markdown",
   "id": "68a3ca4f-ba9f-4bed-a991-12ec9b811daf",
   "metadata": {},
   "source": [
    "##### -----------------******************** Trying Different values in the list ***********************-----------------"
   ]
  },
  {
   "cell_type": "code",
   "execution_count": 7,
   "id": "ed01ba0b-24ad-4296-8fdb-87f581aea895",
   "metadata": {},
   "outputs": [
    {
     "name": "stdout",
     "output_type": "stream",
     "text": [
      "The minimum number from the list is 0\n",
      "Execution completed successfully\n"
     ]
    }
   ],
   "source": [
    "try:\n",
    "    arr2 = [1,5,8,4,9,0,3,22,5,7,89,44,33,2,5,7,9,45,67,35,64,99]    # all integers\n",
    "    result2 = print_min(arr2)\n",
    "except Exception as e:\n",
    "    print(\"Caught an exception: \", e)\n",
    "except IndexError as e:\n",
    "    print(\"Caught an exception: \", e)\n",
    "except TypeError as e:\n",
    "    print(\"Caught an exception: \", e)\n",
    "else:\n",
    "    print(f\"The minimum number from the list is {result2}\")\n",
    "finally:\n",
    "    print(\"Execution completed successfully\")"
   ]
  },
  {
   "cell_type": "code",
   "execution_count": 8,
   "id": "931d906f-f614-4417-93c7-990145c9172a",
   "metadata": {},
   "outputs": [
    {
     "name": "stdout",
     "output_type": "stream",
     "text": [
      "Caught an exception:  Value must be a number, check if there exists a non-numeric value in the list\n",
      "Execution completed successfully\n"
     ]
    }
   ],
   "source": [
    "# Raising a type error for invalid input\n",
    " \n",
    "try:\n",
    "    arr2 = [1,5,8,4,9,0,3,22,5,7,89,44,33,2,5,7,9,'e',45,67,35,64,99]      # a character in between\n",
    "    result2 = print_min(arr2)\n",
    "except Exception as e:\n",
    "    print(\"Caught an exception: \", e)\n",
    "except IndexError as e:\n",
    "    print(\"Caught an exception: \", e)\n",
    "except TypeError as e:\n",
    "    print(\"Caught an exception: \", e)\n",
    "else:\n",
    "    print(f\"The minimum number from the list is {result2}\")\n",
    "finally:\n",
    "    print(\"Execution completed successfully\")"
   ]
  },
  {
   "cell_type": "code",
   "execution_count": 9,
   "id": "e777097d-5f0e-4f47-b64c-71dcf0c3fb24",
   "metadata": {},
   "outputs": [
    {
     "name": "stdout",
     "output_type": "stream",
     "text": [
      "Caught an exception:  List is empty\n",
      "Execution completed successfully\n"
     ]
    }
   ],
   "source": [
    "try:\n",
    "    arr2 = [] # empty list\n",
    "    result2 = print_min(arr)\n",
    "except Exception as e:\n",
    "    print(\"Caught an exception: \", e)\n",
    "except IndexError as e:\n",
    "    print(\"Caught an exception: \", e)\n",
    "except TypeError as e:\n",
    "    print(\"Caught an exception: \", e)\n",
    "else:\n",
    "    print(f\"The minimum number from the list is {result}\")\n",
    "finally:\n",
    "    print(\"Execution completed successfully\")"
   ]
  },
  {
   "cell_type": "code",
   "execution_count": 10,
   "id": "31991bb1-3f6f-4b8a-bb6e-6b033277a2f0",
   "metadata": {},
   "outputs": [
    {
     "name": "stdout",
     "output_type": "stream",
     "text": [
      "Caught an exception:  Value must be a number, check if there exists a non-numeric value in the list\n",
      "Execution completed successfully\n"
     ]
    }
   ],
   "source": [
    "# Raise exception for list of None\n",
    "\n",
    "try:\n",
    "    arr2 = [None, None, None]       # a list of None\n",
    "    result2 = print_min(arr2)\n",
    "except Exception as e:\n",
    "    print(\"Caught an exception: \", e)\n",
    "except IndexError as e:\n",
    "    print(\"Caught an exception: \", e)\n",
    "except TypeError as e:\n",
    "    print(\"Caught an exception: \", e)\n",
    "else:\n",
    "    print(f\"The minimum number from the list is {result}\")\n",
    "finally:\n",
    "    print(\"Execution completed successfully\")"
   ]
  },
  {
   "cell_type": "markdown",
   "id": "092cb942-8dbd-4754-aac9-0a00c48f48bd",
   "metadata": {},
   "source": [
    "---"
   ]
  },
  {
   "cell_type": "markdown",
   "id": "0fbe5327-b676-4612-9dc5-e8bb8636354f",
   "metadata": {},
   "source": [
    "---"
   ]
  },
  {
   "cell_type": "markdown",
   "id": "4f09e5e5-6ca3-4779-b213-65a5eacab9ce",
   "metadata": {},
   "source": [
    "#### 3. Find sum"
   ]
  },
  {
   "cell_type": "code",
   "execution_count": 25,
   "id": "a3b0b4bf-f1e3-4779-9934-9779edf9d1d4",
   "metadata": {},
   "outputs": [],
   "source": [
    "def find_sum(arr: list):\n",
    "    if len(arr3) == 0:\n",
    "        raise IndexError(\"List is empty\")\n",
    "        return\n",
    "    total = 0\n",
    "    for i in range(len(arr)):\n",
    "        if not isinstance(arr[i], (int, float)):\n",
    "            raise TypeError(\"Value must be a number\")\n",
    "            return\n",
    "        total += arr[i]\n",
    "    return total"
   ]
  },
  {
   "cell_type": "code",
   "execution_count": 26,
   "id": "60139e09-b369-4777-bc22-a395ca9a696d",
   "metadata": {},
   "outputs": [
    {
     "name": "stdout",
     "output_type": "stream",
     "text": [
      "The sum of list is 563\n",
      "Execution completed successfully\n"
     ]
    }
   ],
   "source": [
    "arr3 = [1,5,8,4,9,0,3,22,5,7,89,44,33,2,5,7,9,45,67,35,64,99]\n",
    "try:\n",
    "    result3 = find_sum(arr3)\n",
    "except TypeError as e:\n",
    "    print(\"Caught an exception: \", e)\n",
    "except IndexError as e:\n",
    "    print(\"Caught an exception: \", e)\n",
    "else:\n",
    "    print(f\"The sum of list is {result3}\")\n",
    "finally:\n",
    "    print(\"Execution completed successfully\")"
   ]
  },
  {
   "cell_type": "code",
   "execution_count": 27,
   "id": "e18783e7-c012-4e36-88bc-936e3561e2f1",
   "metadata": {},
   "outputs": [
    {
     "name": "stdout",
     "output_type": "stream",
     "text": [
      "Caught an exception:  List is empty\n",
      "Execution completed successfully\n"
     ]
    }
   ],
   "source": [
    "# Raise exception for an empty list\n",
    "\n",
    "arr3 = []\n",
    "try:\n",
    "    result = find_sum(arr3)\n",
    "except IndexError as e:\n",
    "    print(\"Caught an exception: \", e)\n",
    "except TypeError as e:\n",
    "    print(\"Caught an exception: \", e)\n",
    "else:\n",
    "    print(f\"The sum the list is {result}\")\n",
    "finally:\n",
    "    print(\"Execution completed successfully\")"
   ]
  },
  {
   "cell_type": "code",
   "execution_count": 28,
   "id": "bb80ea89-a5c8-4d6f-9a22-801d0303a126",
   "metadata": {},
   "outputs": [
    {
     "name": "stdout",
     "output_type": "stream",
     "text": [
      "Caught an exception:  Value must be a number\n",
      "Execution completed successfully\n"
     ]
    }
   ],
   "source": [
    "# Raise Exception for non numeric values\n",
    "\n",
    "arr3 = [23, 45, 65, 32, 'a', 61, None, False, 44]\n",
    "try:\n",
    "    result = find_sum(arr3)\n",
    "except IndexError as e:\n",
    "    print(\"Caught an exception: \", e)\n",
    "except TypeError as e:\n",
    "    print(\"Caught an exception: \", e)\n",
    "else:\n",
    "    print(f\"The sum the list is {result}\")\n",
    "finally:\n",
    "    print(\"Execution completed successfully\")"
   ]
  },
  {
   "cell_type": "code",
   "execution_count": 29,
   "id": "2d02064a-0e27-46ae-9d37-c70c6ba2fd15",
   "metadata": {},
   "outputs": [
    {
     "data": {
      "text/plain": [
       "36"
      ]
     },
     "execution_count": 29,
     "metadata": {},
     "output_type": "execute_result"
    }
   ],
   "source": [
    "# Using the pre-built sum() method to calculate sum of list\n",
    "\n",
    "arr3 = [1,2,3,4,5,6,7,8]\n",
    "result = sum(arr3)\n",
    "result"
   ]
  },
  {
   "cell_type": "markdown",
   "id": "a9e5bb3e-74c3-48c4-b4e3-57b24a8fe6fc",
   "metadata": {},
   "source": [
    "---"
   ]
  },
  {
   "cell_type": "markdown",
   "id": "37def6cf-691d-4f43-9d90-19992a5b04ba",
   "metadata": {},
   "source": [
    "---"
   ]
  },
  {
   "cell_type": "markdown",
   "id": "e8915ddd-4aad-4409-b53d-ea38d719ce04",
   "metadata": {},
   "source": [
    "#### 4. Find Average "
   ]
  },
  {
   "cell_type": "code",
   "execution_count": 30,
   "id": "5fe478b3-0200-4fa5-be79-3290d56dbd55",
   "metadata": {},
   "outputs": [],
   "source": [
    "def find_avg(arr):\n",
    "    if len(arr) == 0:\n",
    "        raise IndexError(\"List is empty\")\n",
    "        return\n",
    "    total = 0\n",
    "    for i in range(len(arr)):\n",
    "        if not isinstance(arr[i], (int, float)):\n",
    "            raise TypeError(\"Input must be numeric\")\n",
    "            return\n",
    "        total += arr[i]\n",
    "    return total / len(arr)"
   ]
  },
  {
   "cell_type": "code",
   "execution_count": 31,
   "id": "95276982-27e8-4a3e-870e-fd3934ea15ca",
   "metadata": {},
   "outputs": [
    {
     "name": "stdout",
     "output_type": "stream",
     "text": [
      "The average of list is 25.59090909090909\n",
      "Execution completed successfully\n"
     ]
    }
   ],
   "source": [
    "arr4 = [1,5,8,4,9,0,3,22,5,7,89,44,33,2,5,7,9,45,67,35,64,99]\n",
    "try:\n",
    "    result = find_avg(arr4)\n",
    "except TypeError as e:\n",
    "    print(\"Caught an exception: \", e)\n",
    "except IndexError as e:\n",
    "    print(\"Caught an exception: \", e)\n",
    "else:\n",
    "    print(f\"The average of list is {result}\")\n",
    "finally:\n",
    "    print(\"Execution completed successfully\")"
   ]
  },
  {
   "cell_type": "code",
   "execution_count": 32,
   "id": "20580139-a5d9-4d21-9aa8-079db6118ebb",
   "metadata": {},
   "outputs": [
    {
     "name": "stdout",
     "output_type": "stream",
     "text": [
      "Caught an exception:  Input must be numeric\n",
      "Execution completed successfully\n"
     ]
    }
   ],
   "source": [
    "arr4 = [23, 45, 65, 32, 'a', 61, None, False, 44]\n",
    "try:\n",
    "    result = find_avg(arr4)\n",
    "except TypeError as e:\n",
    "    print(\"Caught an exception: \", e)\n",
    "except IndexError as e:\n",
    "    print(\"Caught an exception: \", e)\n",
    "else:\n",
    "    print(f\"The average of list is {result}\")\n",
    "finally:\n",
    "    print(\"Execution completed successfully\")"
   ]
  },
  {
   "cell_type": "code",
   "execution_count": 33,
   "id": "1a2a8d58-dae8-41ed-8790-511849c5d5b5",
   "metadata": {},
   "outputs": [
    {
     "name": "stdout",
     "output_type": "stream",
     "text": [
      "Caught an exception:  List is empty\n",
      "Execution completed successfully\n"
     ]
    }
   ],
   "source": [
    "arr4 = []\n",
    "try:\n",
    "    result = find_avg(arr4)\n",
    "except TypeError as e:\n",
    "    print(\"Caught an exception: \", e)\n",
    "except IndexError as e:\n",
    "    print(\"Caught an exception: \", e)\n",
    "else:\n",
    "    print(f\"The average of list is {result}\")\n",
    "finally:\n",
    "    print(\"Execution completed successfully\")"
   ]
  },
  {
   "cell_type": "markdown",
   "id": "685d52c8-afaa-41f0-af89-17362c75527a",
   "metadata": {},
   "source": [
    "---"
   ]
  },
  {
   "cell_type": "markdown",
   "id": "80e98c9d-b3f4-4cb2-b57b-8648ecb4516c",
   "metadata": {},
   "source": [
    "---"
   ]
  },
  {
   "cell_type": "markdown",
   "id": "ba670968-b639-4852-8d6b-be13f72acde5",
   "metadata": {},
   "source": [
    "#### 5. Frequency of each word in a sentence "
   ]
  },
  {
   "cell_type": "code",
   "execution_count": 75,
   "id": "af8e20c0-6e90-43ff-9a22-0390a0e7d604",
   "metadata": {},
   "outputs": [
    {
     "data": {
      "text/plain": [
       "['hello', 'there', 'how', 'are', 'you', 'you', 'must', 'be', 'fine']"
      ]
     },
     "execution_count": 75,
     "metadata": {},
     "output_type": "execute_result"
    }
   ],
   "source": [
    "# Split the words and strip off the blank spaces \n",
    "\n",
    "import re\n",
    "\n",
    "\n",
    "words = sentence.strip().split(\" \")\n",
    "for i in range(len(words)):\n",
    "    words[i] = re.sub(r'[^a-zA-z0-9]', '', words[i]).lower()\n",
    "    \n",
    "words"
   ]
  },
  {
   "cell_type": "code",
   "execution_count": 76,
   "id": "1702d286-e632-454e-a30b-c4cb3134d570",
   "metadata": {},
   "outputs": [
    {
     "data": {
      "text/plain": [
       "{'hello': 1,\n",
       " 'there': 1,\n",
       " 'how': 1,\n",
       " 'are': 1,\n",
       " 'you': 2,\n",
       " 'must': 1,\n",
       " 'be': 1,\n",
       " 'fine': 1}"
      ]
     },
     "execution_count": 76,
     "metadata": {},
     "output_type": "execute_result"
    }
   ],
   "source": [
    "# Count the occurance of each word\n",
    "\n",
    "word_count = {}\n",
    "for i in range(len(words)):\n",
    "    if words[i] not in word_count:\n",
    "        word_count[words[i]] = 1\n",
    "    else:\n",
    "        word_count[words[i]] += 1\n",
    "word_count"
   ]
  },
  {
   "cell_type": "code",
   "execution_count": 77,
   "id": "b3b44d9d-cb09-4ebc-bdea-d6157796f0d7",
   "metadata": {},
   "outputs": [],
   "source": [
    "# Creating a function\n",
    "\n",
    "\n",
    "def word_frequency(sentence):\n",
    "    word_count = {}\n",
    "    words = sentence.strip().split(\" \")\n",
    "    for i in range(len(words)):\n",
    "        words[i] = re.sub(r'[^a-z-A-Z0-9]', '', words[i]).lower()\n",
    "        if words[i] not in word_count:\n",
    "            word_count[words[i]] = 1\n",
    "        else:\n",
    "            word_count[words[i]] += 1\n",
    "    return word_count"
   ]
  },
  {
   "cell_type": "code",
   "execution_count": 78,
   "id": "fe72052d-8807-40e3-8180-2ec935d8bf46",
   "metadata": {},
   "outputs": [
    {
     "name": "stdout",
     "output_type": "stream",
     "text": [
      "{'hello': 1, 'there': 1, 'how': 1, 'are': 1, 'you': 2, 'must': 1, 'be': 1, 'fine': 1}\n"
     ]
    }
   ],
   "source": [
    "sentence = \"Hello, there! How are you. You must be fine.\"\n",
    "result = word_frequency(sentence)\n",
    "print(result)"
   ]
  },
  {
   "cell_type": "markdown",
   "id": "8f82611e-424c-427f-8eea-e692d4a4738d",
   "metadata": {},
   "source": [
    "---"
   ]
  },
  {
   "cell_type": "markdown",
   "id": "4eab36e5-1440-413a-93ff-d906dcba066d",
   "metadata": {},
   "source": [
    "---"
   ]
  },
  {
   "cell_type": "markdown",
   "id": "9f6f2f78-a42a-4ffd-822b-925f884b7ae7",
   "metadata": {},
   "source": [
    "#### 6. Prime Number"
   ]
  },
  {
   "cell_type": "code",
   "execution_count": 119,
   "id": "9225092d-d02f-4407-b0e2-9be440970137",
   "metadata": {},
   "outputs": [],
   "source": [
    "# Naive approach\n",
    "\n",
    "def prime_number1(n):\n",
    "    if n < 2:\n",
    "        return False\n",
    "    for i in range(2,n):\n",
    "        if n % i == 0:\n",
    "            return False\n",
    "    return True"
   ]
  },
  {
   "cell_type": "code",
   "execution_count": 120,
   "id": "e316cbfe-028b-4599-9af1-310ec8b0b35c",
   "metadata": {},
   "outputs": [
    {
     "name": "stdout",
     "output_type": "stream",
     "text": [
      "True\n"
     ]
    }
   ],
   "source": [
    "prime_result1 = prime_number1(7)\n",
    "print(prime_result1)"
   ]
  },
  {
   "cell_type": "code",
   "execution_count": 123,
   "id": "69884067-d997-4344-a0d4-a3e6007a6951",
   "metadata": {},
   "outputs": [],
   "source": [
    "# Better approach\n",
    "\n",
    "import math\n",
    "def prime_number2(n):\n",
    "    if n < 2:\n",
    "        return False\n",
    "    x = math.sqrt(n)\n",
    "    for i in range(4, int(x)+1):\n",
    "        if n % i == 0:\n",
    "            return False\n",
    "    return True\n",
    "        "
   ]
  },
  {
   "cell_type": "code",
   "execution_count": 124,
   "id": "6f85173a-03a8-4ac7-bf50-02f0cd084d98",
   "metadata": {},
   "outputs": [
    {
     "name": "stdout",
     "output_type": "stream",
     "text": [
      "True\n"
     ]
    }
   ],
   "source": [
    "prime_result2 = prime_number2(5)\n",
    "print(prime_result2)"
   ]
  },
  {
   "cell_type": "code",
   "execution_count": 126,
   "id": "0f546844-5c12-4f8f-a326-45f5f1c03f98",
   "metadata": {},
   "outputs": [],
   "source": [
    "# Best Approach\n",
    "\n",
    "\n",
    "def prime_number3(n):\n",
    "    if n == 2  or n == 3:\n",
    "        return True\n",
    "    elif n <= 1 or n % 2 == 0 or n % 3 == 0:\n",
    "        return False\n",
    "    x = math.sqrt(n)\n",
    "    for i in range(5, int(x)+1, 6):\n",
    "        if n % i == 0 or n % (i+2) == 0:\n",
    "            return False\n",
    "    return True"
   ]
  },
  {
   "cell_type": "code",
   "execution_count": 127,
   "id": "78f3eeea-50b0-4205-ad7f-706c42cc82ff",
   "metadata": {},
   "outputs": [
    {
     "name": "stdout",
     "output_type": "stream",
     "text": [
      "True\n"
     ]
    }
   ],
   "source": [
    "prime_result3 = prime_number3(13)\n",
    "print(prime_result3)"
   ]
  },
  {
   "cell_type": "code",
   "execution_count": null,
   "id": "981b11c1-5466-471d-8a86-5d6ef732512b",
   "metadata": {},
   "outputs": [],
   "source": []
  }
 ],
 "metadata": {
  "kernelspec": {
   "display_name": "Python 3 (ipykernel)",
   "language": "python",
   "name": "python3"
  },
  "language_info": {
   "codemirror_mode": {
    "name": "ipython",
    "version": 3
   },
   "file_extension": ".py",
   "mimetype": "text/x-python",
   "name": "python",
   "nbconvert_exporter": "python",
   "pygments_lexer": "ipython3",
   "version": "3.11.8"
  }
 },
 "nbformat": 4,
 "nbformat_minor": 5
}
